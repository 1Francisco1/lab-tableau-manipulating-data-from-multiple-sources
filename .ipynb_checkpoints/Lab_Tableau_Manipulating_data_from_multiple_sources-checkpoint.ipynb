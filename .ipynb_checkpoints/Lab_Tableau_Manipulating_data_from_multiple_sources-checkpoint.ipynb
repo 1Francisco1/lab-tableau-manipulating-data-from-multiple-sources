{
 "cells": [
  {
   "cell_type": "markdown",
   "id": "6461e77a",
   "metadata": {},
   "source": [
    "# Lab | Tableau - Manipulating data from multiple sources"
   ]
  },
  {
   "cell_type": "markdown",
   "id": "8f04f907",
   "metadata": {},
   "source": [
    "Link to the Tableau containing the graph asked in the lab using the pdf to dataframe:\n",
    "https://public.tableau.com/app/profile/francisco.duarte6075/viz/LabTableau-Manipulatingdatafrommultiplesources_16453969935300/Sheet2"
   ]
  }
 ],
 "metadata": {
  "kernelspec": {
   "display_name": "Python 3",
   "language": "python",
   "name": "python3"
  },
  "language_info": {
   "codemirror_mode": {
    "name": "ipython",
    "version": 3
   },
   "file_extension": ".py",
   "mimetype": "text/x-python",
   "name": "python",
   "nbconvert_exporter": "python",
   "pygments_lexer": "ipython3",
   "version": "3.8.8"
  }
 },
 "nbformat": 4,
 "nbformat_minor": 5
}
